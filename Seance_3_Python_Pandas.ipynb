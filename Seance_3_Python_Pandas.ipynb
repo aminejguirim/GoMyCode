{
  "nbformat": 4,
  "nbformat_minor": 0,
  "metadata": {
    "colab": {
      "name": "Seance 3 Python-Pandas ",
      "provenance": [],
      "collapsed_sections": [],
      "authorship_tag": "ABX9TyPI1FtQhZsQn/PU4L0CPVNM",
      "include_colab_link": true
    },
    "kernelspec": {
      "name": "python3",
      "display_name": "Python 3"
    },
    "language_info": {
      "name": "python"
    }
  },
  "cells": [
    {
      "cell_type": "markdown",
      "metadata": {
        "id": "view-in-github",
        "colab_type": "text"
      },
      "source": [
        "<a href=\"https://colab.research.google.com/github/aminejguirim/artificial-intelligence-GoMyCode-/blob/main/Seance_3_Python_Pandas.ipynb\" target=\"_parent\"><img src=\"https://colab.research.google.com/assets/colab-badge.svg\" alt=\"Open In Colab\"/></a>"
      ]
    },
    {
      "cell_type": "code",
      "metadata": {
        "colab": {
          "base_uri": "https://localhost:8080/"
        },
        "id": "hsb7vsU5rBwJ",
        "outputId": "745ca64e-be8a-42fc-a66a-a5d2d636dc5f"
      },
      "source": [
        "import pandas as pd\n",
        "fruits = [\"apples\", \"oranges\", \"cherries\", \"pears\"]\n",
        "quantities = [20, 33, 52, 10]\n",
        "S = pd.Series([20, 33, 52, 10], index=fruits)\n",
        "S2 = pd.Series([17, 13, 311, 32], index=fruits)\n",
        "print(S)\n",
        "#print(\"sum of s:\", sum(S))"
      ],
      "execution_count": null,
      "outputs": [
        {
          "output_type": "stream",
          "name": "stdout",
          "text": [
            "apples      20\n",
            "oranges     33\n",
            "cherries    52\n",
            "pears       10\n",
            "dtype: int64\n"
          ]
        }
      ]
    },
    {
      "cell_type": "code",
      "metadata": {
        "colab": {
          "base_uri": "https://localhost:8080/"
        },
        "id": "9-MBVQNPZrGR",
        "outputId": "1ade695f-eb9d-4438-f5de-115445177cd7"
      },
      "source": [
        "import numpy as np\n",
        "import pandas as pd\n",
        "my_numpy_array=np.random.randn(3,4)\n",
        "df=pd.DataFrame(my_numpy_array, columns=list(\"abcd\"))\n",
        "print(df)"
      ],
      "execution_count": null,
      "outputs": [
        {
          "output_type": "stream",
          "name": "stdout",
          "text": [
            "          0         1         2         3\n",
            "0  1.017328 -0.155481 -0.598510  0.754330\n",
            "1 -0.849134  0.275026  1.594869  0.201082\n",
            "2 -0.608342 -1.981811  0.407040 -0.920109\n"
          ]
        }
      ]
    },
    {
      "cell_type": "code",
      "metadata": {
        "colab": {
          "base_uri": "https://localhost:8080/"
        },
        "id": "WwwksEbWaFJu",
        "outputId": "b75de648-a098-4ead-cafa-cc9fb2b35d76"
      },
      "source": [
        "import numpy as np\n",
        "import pandas as pd\n",
        "cities={\"name\":[\"London\",\"Berlin\",\"Madrid\",\"Rome\"],\n",
        "        \"population\":[77989,9898989,989898,98998],\n",
        "        \"country\":[\"England\",\"Germany\",\"Spain\",\"Italy\"]}\n",
        "city_frame=pd.DataFrame(cities)\n",
        "#city_frame.head(2)#afficher les 2 premières lignes \n",
        "#city_frame.tail(1)#to show the last row of your data\n",
        "#city_frame=city_frame.drop('name',axis=1)#to drop a column\n",
        "city_frame\n",
        "city_frame.iloc[2:3,2:4]\n",
        "df.iloc[0]"
      ],
      "execution_count": null,
      "outputs": [
        {
          "output_type": "execute_result",
          "data": {
            "text/plain": [
              "0    1.017328\n",
              "1   -0.155481\n",
              "2   -0.598510\n",
              "3    0.754330\n",
              "Name: 0, dtype: float64"
            ]
          },
          "metadata": {},
          "execution_count": 22
        }
      ]
    },
    {
      "cell_type": "code",
      "metadata": {
        "colab": {
          "base_uri": "https://localhost:8080/",
          "height": 174
        },
        "id": "Cb6FlxhAM5ZM",
        "outputId": "29a5d622-2f2c-482d-e48e-b0866f14bc14"
      },
      "source": [
        "import numpy as np\n",
        "import pandas as pd\n",
        "cities={\"name\":[\"London\",\"Berlin\",\"Madrid\",\"Rome\"],\n",
        "        \"population\":[77989,9898989,989898,98998],\n",
        "        \"country\":[\"England\",\"Germany\",\"Spain\",\"Italy\"]}\n",
        "city_frame=pd.DataFrame(cities)\n",
        "#city_frame.head(2)#afficher les 2 premières lignes \n",
        "#city_frame.tail(1)#to show the last row of your data\n",
        "#city_frame=city_frame.drop('name',axis=1)#to drop a column\n",
        "city_frame"
      ],
      "execution_count": 1,
      "outputs": [
        {
          "output_type": "execute_result",
          "data": {
            "text/html": [
              "<div>\n",
              "<style scoped>\n",
              "    .dataframe tbody tr th:only-of-type {\n",
              "        vertical-align: middle;\n",
              "    }\n",
              "\n",
              "    .dataframe tbody tr th {\n",
              "        vertical-align: top;\n",
              "    }\n",
              "\n",
              "    .dataframe thead th {\n",
              "        text-align: right;\n",
              "    }\n",
              "</style>\n",
              "<table border=\"1\" class=\"dataframe\">\n",
              "  <thead>\n",
              "    <tr style=\"text-align: right;\">\n",
              "      <th></th>\n",
              "      <th>name</th>\n",
              "      <th>population</th>\n",
              "      <th>country</th>\n",
              "    </tr>\n",
              "  </thead>\n",
              "  <tbody>\n",
              "    <tr>\n",
              "      <th>0</th>\n",
              "      <td>London</td>\n",
              "      <td>77989</td>\n",
              "      <td>England</td>\n",
              "    </tr>\n",
              "    <tr>\n",
              "      <th>1</th>\n",
              "      <td>Berlin</td>\n",
              "      <td>9898989</td>\n",
              "      <td>Germany</td>\n",
              "    </tr>\n",
              "    <tr>\n",
              "      <th>2</th>\n",
              "      <td>Madrid</td>\n",
              "      <td>989898</td>\n",
              "      <td>Spain</td>\n",
              "    </tr>\n",
              "    <tr>\n",
              "      <th>3</th>\n",
              "      <td>Rome</td>\n",
              "      <td>98998</td>\n",
              "      <td>Italy</td>\n",
              "    </tr>\n",
              "  </tbody>\n",
              "</table>\n",
              "</div>"
            ],
            "text/plain": [
              "     name  population  country\n",
              "0  London       77989  England\n",
              "1  Berlin     9898989  Germany\n",
              "2  Madrid      989898    Spain\n",
              "3    Rome       98998    Italy"
            ]
          },
          "metadata": {},
          "execution_count": 1
        }
      ]
    },
    {
      "cell_type": "code",
      "metadata": {
        "id": "NcvWvDlZbNTV"
      },
      "source": [
        "import numpy as np\n",
        "import pandas as pd\n",
        "df=pd.read_csv(\"train.csv\",encoding=\"ISO-8859-1\")\n",
        "df.head(5)"
      ],
      "execution_count": null,
      "outputs": []
    },
    {
      "cell_type": "code",
      "metadata": {
        "id": "VN09KYnqn7vc"
      },
      "source": [
        "from google.colab import files\n",
        "uploaded = files.upload()"
      ],
      "execution_count": null,
      "outputs": []
    },
    {
      "cell_type": "code",
      "metadata": {
        "colab": {
          "base_uri": "https://localhost:8080/",
          "height": 269
        },
        "id": "p2SGXbMoQUh5",
        "outputId": "ab0c21ec-388f-40df-e8a8-e11cca46334d"
      },
      "source": [
        "import pandas as pd\n",
        "dict1 = {\n",
        "    \"Name\": [\"amine\",\"eskender\",\"emir\",\"mohamed\",\"seif\",\"nacir\"],\n",
        "    \"Lastname\":[\"jguirim\",\"jguirim\",\"jguirim\",\"miled\",\"jguirim\",\"migaou\"],\n",
        "    \"Age\": [\"23\",\"23\",\"21\",\"22\",\"18\",\"20\"],\n",
        "    \"Role\":[\"AI\",\"Web\",\"Data\",\"Manager\",\"Conseil\",\"Meca\"],\n",
        "    \"Home Adress\":[\"manouba\",\"nacer\",\"nacer\",\"qatar\",\"sayada\",\"sayada\"]    \n",
        "}\n",
        "data = pd.DataFrame(dict1)\n",
        "data.to_csv('Data.csv')\n",
        "new_data=pd.read_csv('Data.csv')\n",
        "new_data.head(5)\n",
        "#new_data.tail(1)#to show the last row of your data\n",
        "#new_data=new_data.drop('Unnamed:0',axis=1) to drop column \n",
        "#new_data.info() #to show general information of differrentcolumns such as the type\n",
        "new_data['Age'].describe() #OKK\n",
        "new_data[['Age','Home Adress']] #selecting multiple columns\n",
        "new_data[0:4] #selecting multiple rows\n",
        "new_data.iloc[2:5,2:5] #select rows and colums by number (order)\n",
        "new_data.iloc[3]\n",
        "#new_data.loc[\"amine\":\"emir\",\"Lastname\":\"Role\"],\n",
        "#new_data.loc[['amine','emir']]\n",
        "new_data=new_data.set_index('Name')\n",
        "new_data\n",
        "new_data[new_data[\"Age\"]>22]\n",
        "new_data[new_data[\"Role\"]==\"AI\"]\n",
        "#new_data[\"Full Name\"]=new_data[\"Name\"]+\" \"+new_data[\"Lastname\"]\n",
        "#new_data.head()\n",
        "dict2 = {\n",
        "    \"Name\" : [\"ahmed\"],\n",
        "    \"Lastname\" : [\"tlili\"],\n",
        "    \"Age\" : [\"30\"],\n",
        "    \"Role\" : [\"web\"],\n",
        "    \"Home Adress\": [\"sousse\"]\n",
        "    }\n",
        "data2 = pd.DataFrame(dict2)\n",
        "new_data=pd.concat([new_data,data2])\n",
        "new_data"
      ],
      "execution_count": 29,
      "outputs": [
        {
          "output_type": "execute_result",
          "data": {
            "text/html": [
              "<div>\n",
              "<style scoped>\n",
              "    .dataframe tbody tr th:only-of-type {\n",
              "        vertical-align: middle;\n",
              "    }\n",
              "\n",
              "    .dataframe tbody tr th {\n",
              "        vertical-align: top;\n",
              "    }\n",
              "\n",
              "    .dataframe thead th {\n",
              "        text-align: right;\n",
              "    }\n",
              "</style>\n",
              "<table border=\"1\" class=\"dataframe\">\n",
              "  <thead>\n",
              "    <tr style=\"text-align: right;\">\n",
              "      <th></th>\n",
              "      <th>Unnamed: 0</th>\n",
              "      <th>Lastname</th>\n",
              "      <th>Age</th>\n",
              "      <th>Role</th>\n",
              "      <th>Home Adress</th>\n",
              "      <th>Name</th>\n",
              "    </tr>\n",
              "  </thead>\n",
              "  <tbody>\n",
              "    <tr>\n",
              "      <th>amine</th>\n",
              "      <td>0.0</td>\n",
              "      <td>jguirim</td>\n",
              "      <td>23</td>\n",
              "      <td>AI</td>\n",
              "      <td>manouba</td>\n",
              "      <td>NaN</td>\n",
              "    </tr>\n",
              "    <tr>\n",
              "      <th>eskender</th>\n",
              "      <td>1.0</td>\n",
              "      <td>jguirim</td>\n",
              "      <td>23</td>\n",
              "      <td>Web</td>\n",
              "      <td>nacer</td>\n",
              "      <td>NaN</td>\n",
              "    </tr>\n",
              "    <tr>\n",
              "      <th>emir</th>\n",
              "      <td>2.0</td>\n",
              "      <td>jguirim</td>\n",
              "      <td>21</td>\n",
              "      <td>Data</td>\n",
              "      <td>nacer</td>\n",
              "      <td>NaN</td>\n",
              "    </tr>\n",
              "    <tr>\n",
              "      <th>mohamed</th>\n",
              "      <td>3.0</td>\n",
              "      <td>miled</td>\n",
              "      <td>22</td>\n",
              "      <td>Manager</td>\n",
              "      <td>qatar</td>\n",
              "      <td>NaN</td>\n",
              "    </tr>\n",
              "    <tr>\n",
              "      <th>seif</th>\n",
              "      <td>4.0</td>\n",
              "      <td>jguirim</td>\n",
              "      <td>18</td>\n",
              "      <td>Conseil</td>\n",
              "      <td>sayada</td>\n",
              "      <td>NaN</td>\n",
              "    </tr>\n",
              "    <tr>\n",
              "      <th>nacir</th>\n",
              "      <td>5.0</td>\n",
              "      <td>migaou</td>\n",
              "      <td>20</td>\n",
              "      <td>Meca</td>\n",
              "      <td>sayada</td>\n",
              "      <td>NaN</td>\n",
              "    </tr>\n",
              "    <tr>\n",
              "      <th>0</th>\n",
              "      <td>NaN</td>\n",
              "      <td>tlili</td>\n",
              "      <td>30</td>\n",
              "      <td>web</td>\n",
              "      <td>sousse</td>\n",
              "      <td>ahmed</td>\n",
              "    </tr>\n",
              "  </tbody>\n",
              "</table>\n",
              "</div>"
            ],
            "text/plain": [
              "          Unnamed: 0 Lastname Age     Role Home Adress   Name\n",
              "amine            0.0  jguirim  23       AI     manouba    NaN\n",
              "eskender         1.0  jguirim  23      Web       nacer    NaN\n",
              "emir             2.0  jguirim  21     Data       nacer    NaN\n",
              "mohamed          3.0    miled  22  Manager       qatar    NaN\n",
              "seif             4.0  jguirim  18  Conseil      sayada    NaN\n",
              "nacir            5.0   migaou  20     Meca      sayada    NaN\n",
              "0                NaN    tlili  30      web      sousse  ahmed"
            ]
          },
          "metadata": {},
          "execution_count": 29
        }
      ]
    }
  ]
}