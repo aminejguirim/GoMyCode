{
  "nbformat": 4,
  "nbformat_minor": 0,
  "metadata": {
    "colab": {
      "name": "Seance 3 Python-Pandas ",
      "provenance": [],
      "collapsed_sections": [],
      "authorship_tag": "ABX9TyNboOHmDq3+bFRP81MMcdEI",
      "include_colab_link": true
    },
    "kernelspec": {
      "name": "python3",
      "display_name": "Python 3"
    },
    "language_info": {
      "name": "python"
    }
  },
  "cells": [
    {
      "cell_type": "markdown",
      "metadata": {
        "id": "view-in-github",
        "colab_type": "text"
      },
      "source": [
        "<a href=\"https://colab.research.google.com/github/aminejguirim/artificial-intelligence-GoMyCode-/blob/main/Seance_3_Python_Pandas.ipynb\" target=\"_parent\"><img src=\"https://colab.research.google.com/assets/colab-badge.svg\" alt=\"Open In Colab\"/></a>"
      ]
    },
    {
      "cell_type": "code",
      "metadata": {
        "colab": {
          "base_uri": "https://localhost:8080/"
        },
        "id": "hsb7vsU5rBwJ",
        "outputId": "552018ad-0098-4c4a-bc84-c11a28f8785f"
      },
      "source": [
        "import pandas as pd\n",
        "fruits = [\"apples\", \"oranges\", \"cherries\", \"pears\"]\n",
        "quantities = [20, 33, 52, 10]\n",
        "S = pd.Series([20, 33, 52, 10], index=fruits)\n",
        "S2 = pd.Series([17, 13, 311, 32], index=fruits_ro)\n",
        "print(S)\n",
        "#print(\"sum of s:\", sum(S))"
      ],
      "execution_count": 9,
      "outputs": [
        {
          "output_type": "stream",
          "name": "stdout",
          "text": [
            "apples      20\n",
            "oranges     33\n",
            "cherries    52\n",
            "pears       10\n",
            "dtype: int64\n"
          ]
        }
      ]
    }
  ]
}