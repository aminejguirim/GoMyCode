{
  "nbformat": 4,
  "nbformat_minor": 0,
  "metadata": {
    "colab": {
      "name": "Seance 3 Python-Pandas ",
      "provenance": [],
      "collapsed_sections": [],
      "authorship_tag": "ABX9TyOdToojn1ZPcS1iV7lIreSF",
      "include_colab_link": true
    },
    "kernelspec": {
      "name": "python3",
      "display_name": "Python 3"
    },
    "language_info": {
      "name": "python"
    }
  },
  "cells": [
    {
      "cell_type": "markdown",
      "metadata": {
        "id": "view-in-github",
        "colab_type": "text"
      },
      "source": [
        "<a href=\"https://colab.research.google.com/github/aminejguirim/artificial-intelligence-GoMyCode-/blob/main/Seance_3_Python_Pandas.ipynb\" target=\"_parent\"><img src=\"https://colab.research.google.com/assets/colab-badge.svg\" alt=\"Open In Colab\"/></a>"
      ]
    },
    {
      "cell_type": "code",
      "metadata": {
        "colab": {
          "base_uri": "https://localhost:8080/"
        },
        "id": "hsb7vsU5rBwJ",
        "outputId": "552018ad-0098-4c4a-bc84-c11a28f8785f"
      },
      "source": [
        "import pandas as pd\n",
        "fruits = [\"apples\", \"oranges\", \"cherries\", \"pears\"]\n",
        "quantities = [20, 33, 52, 10]\n",
        "S = pd.Series([20, 33, 52, 10], index=fruits)\n",
        "S2 = pd.Series([17, 13, 311, 32], index=fruits_ro)\n",
        "print(S)\n",
        "#print(\"sum of s:\", sum(S))"
      ],
      "execution_count": null,
      "outputs": [
        {
          "output_type": "stream",
          "name": "stdout",
          "text": [
            "apples      20\n",
            "oranges     33\n",
            "cherries    52\n",
            "pears       10\n",
            "dtype: int64\n"
          ]
        }
      ]
    },
    {
      "cell_type": "code",
      "metadata": {
        "colab": {
          "base_uri": "https://localhost:8080/"
        },
        "id": "9-MBVQNPZrGR",
        "outputId": "f002bb26-df0f-43e5-b391-43ae8045e9de"
      },
      "source": [
        "import numpy as np\n",
        "import pandas as pd\n",
        "my_numpy_array=np.random.randn(3,4)\n",
        "df=pd.DataFrame(my_numpy_array, columns=list(\"abcd\"))\n",
        "print(df)"
      ],
      "execution_count": 1,
      "outputs": [
        {
          "output_type": "stream",
          "name": "stdout",
          "text": [
            "          a         b         c         d\n",
            "0 -1.005756 -0.753919  0.348986 -1.912960\n",
            "1  0.537628 -1.033515  0.005562  2.826888\n",
            "2  0.119137  0.133972 -0.467897 -0.090405\n"
          ]
        }
      ]
    },
    {
      "cell_type": "code",
      "metadata": {
        "colab": {
          "base_uri": "https://localhost:8080/"
        },
        "id": "WwwksEbWaFJu",
        "outputId": "48432d51-25c9-4a2a-dfea-b154f6ebd042"
      },
      "source": [
        "import numpy as np\n",
        "import pandas as pd\n",
        "cities={\"name\":[\"London\",\"Berlin\",\"Madrid\",\"Rome\"],\n",
        "        \"population\":[77989,9898989,989898,98998],\n",
        "        \"country\":[\"England\",\"Germany\",\"Spain\",\"Italy\"]}\n",
        "city_frame=pd.DataFrame(cities)\n",
        "city_frame.head(2)#afficher les 2 premières lignes \n",
        "city_frame.tail(1)#to show the last row of your data\n",
        "city_frame=city_frame.drop('name',axis=1)#to drop a column\n",
        "city_frame.info"
      ],
      "execution_count": 13,
      "outputs": [
        {
          "output_type": "execute_result",
          "data": {
            "text/plain": [
              "<bound method DataFrame.info of    population  country\n",
              "0       77989  England\n",
              "1     9898989  Germany\n",
              "2      989898    Spain\n",
              "3       98998    Italy>"
            ]
          },
          "metadata": {},
          "execution_count": 13
        }
      ]
    },
    {
      "cell_type": "code",
      "metadata": {
        "id": "NcvWvDlZbNTV"
      },
      "source": [
        "import numpy as np\n",
        "import pandas as pd\n",
        "df=pd.read_csv(\"train.csv\",encoding=\"ISO-8859-1\")\n",
        "df.head(5)"
      ],
      "execution_count": null,
      "outputs": []
    }
  ]
}