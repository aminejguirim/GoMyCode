{
  "nbformat": 4,
  "nbformat_minor": 0,
  "metadata": {
    "colab": {
      "name": "seance2 python",
      "provenance": [],
      "collapsed_sections": [],
      "authorship_tag": "ABX9TyNGaQJEum0rhMuEmjI9UAlM",
      "include_colab_link": true
    },
    "kernelspec": {
      "name": "python3",
      "display_name": "Python 3"
    },
    "language_info": {
      "name": "python"
    }
  },
  "cells": [
    {
      "cell_type": "markdown",
      "metadata": {
        "id": "view-in-github",
        "colab_type": "text"
      },
      "source": [
        "<a href=\"https://colab.research.google.com/github/aminejguirim/artificial-intelligence-GoMyCode-/blob/main/seance2_python.ipynb\" target=\"_parent\"><img src=\"https://colab.research.google.com/assets/colab-badge.svg\" alt=\"Open In Colab\"/></a>"
      ]
    },
    {
      "cell_type": "code",
      "metadata": {
        "colab": {
          "base_uri": "https://localhost:8080/"
        },
        "id": "zGzkYy4Acnbx",
        "outputId": "a4ded786-6af3-4c94-a35e-4f201a7cf4f1"
      },
      "source": [
        "x=2\n",
        "y=6\n",
        "x+y\n",
        "print(\"the result is\", x+y)  #the result is 8\n",
        "x-y\n",
        "print(\"the result is\", x-y)  #the result is -4\n",
        "x*y\n",
        "print(\"the result is\", x*y)  #the result is 12\n",
        "y/x\n",
        "print(\"the result is\", y/x)  #the result is 3.0\n",
        "y**x\n",
        "print(\"the result is\", y**x)  #the result is 36\n",
        "y%x\n",
        "print(\"the result is\", y%x)  #the result is 0"
      ],
      "execution_count": null,
      "outputs": [
        {
          "output_type": "stream",
          "name": "stdout",
          "text": [
            "the result is 8\n",
            "the result is -4\n",
            "the result is 12\n",
            "the result is 3.0\n",
            "the result is 36\n",
            "the result is 0\n"
          ]
        }
      ]
    },
    {
      "cell_type": "code",
      "metadata": {
        "colab": {
          "base_uri": "https://localhost:8080/"
        },
        "id": "xE2GU65sZs3b",
        "outputId": "df17276b-25c2-4884-db1d-91588d747762"
      },
      "source": [
        "#operation bolean\n",
        "(5!=7) == (2>1)\n",
        "#1 != 5   #it returns True\n",
        "#1 != 1   #it returns False"
      ],
      "execution_count": null,
      "outputs": [
        {
          "output_type": "execute_result",
          "data": {
            "text/plain": [
              "True"
            ]
          },
          "metadata": {},
          "execution_count": 8
        }
      ]
    },
    {
      "cell_type": "code",
      "metadata": {
        "colab": {
          "base_uri": "https://localhost:8080/"
        },
        "id": "BTZXYVxTfEcH",
        "outputId": "e89f16ad-63ca-465d-b9af-bbe39e8fcd7d"
      },
      "source": [
        "a=(1!=5)\n",
        "if a:\n",
        "  print(\"bonjour\")"
      ],
      "execution_count": null,
      "outputs": [
        {
          "output_type": "stream",
          "name": "stdout",
          "text": [
            "bonjour\n"
          ]
        }
      ]
    },
    {
      "cell_type": "code",
      "metadata": {
        "colab": {
          "base_uri": "https://localhost:8080/"
        },
        "id": "6u9pQ4R3ftad",
        "outputId": "2d20a78d-fd12-4c3f-8859-b8a9f35ed997"
      },
      "source": [
        "type(a)"
      ],
      "execution_count": null,
      "outputs": [
        {
          "output_type": "execute_result",
          "data": {
            "text/plain": [
              "bool"
            ]
          },
          "metadata": {},
          "execution_count": 5
        }
      ]
    },
    {
      "cell_type": "code",
      "metadata": {
        "colab": {
          "base_uri": "https://localhost:8080/"
        },
        "id": "yCLSrbujg4_m",
        "outputId": "7e4c6c2c-a361-497e-90fd-366856beb715"
      },
      "source": [
        "age=19\n",
        "age_min=20\n",
        "if( age < age_min) :\n",
        "  print(\"omor\")\n",
        "  print(age)#this instruction is not inculded in the statment"
      ],
      "execution_count": null,
      "outputs": [
        {
          "output_type": "stream",
          "name": "stdout",
          "text": [
            "omor\n",
            "19\n"
          ]
        }
      ]
    },
    {
      "cell_type": "code",
      "metadata": {
        "colab": {
          "base_uri": "https://localhost:8080/"
        },
        "id": "pRh9ZHR3hrSa",
        "outputId": "9c793a5b-e059-4e0a-c674-719d6e152ec5"
      },
      "source": [
        "age=20\n",
        "age_min=19\n",
        "if( age > age_min) :\n",
        "  print(\"omor\")\n",
        "else:\n",
        "  print(taha)"
      ],
      "execution_count": null,
      "outputs": [
        {
          "output_type": "stream",
          "name": "stdout",
          "text": [
            "omor\n"
          ]
        }
      ]
    },
    {
      "cell_type": "code",
      "metadata": {
        "colab": {
          "base_uri": "https://localhost:8080/"
        },
        "id": "sUUVP23oii0Q",
        "outputId": "7f097650-ed46-4eec-d884-161cf8ab8e2d"
      },
      "source": [
        "#LISTE\n",
        "mylist=[\"amine\",\"jguirim\",\"23\"]\n",
        "print(mylist[0])"
      ],
      "execution_count": null,
      "outputs": [
        {
          "output_type": "stream",
          "name": "stdout",
          "text": [
            "amine\n"
          ]
        }
      ]
    },
    {
      "cell_type": "code",
      "metadata": {
        "colab": {
          "base_uri": "https://localhost:8080/"
        },
        "id": "gTwzqbJTlllw",
        "outputId": "7a518bea-5d1f-4616-b4e4-90f6273f1a55"
      },
      "source": [
        "mylist=[\"amine\",\"jguirim\",[1,2]]\n",
        "print(len(mylist[0]))#To determine how many items a list has, use the len() method:"
      ],
      "execution_count": null,
      "outputs": [
        {
          "output_type": "stream",
          "name": "stdout",
          "text": [
            "5\n"
          ]
        }
      ]
    },
    {
      "cell_type": "code",
      "metadata": {
        "colab": {
          "base_uri": "https://localhost:8080/"
        },
        "id": "2w7PWyY-tgAh",
        "outputId": "f48f8ccf-d9f3-4c55-d9eb-98cf079d0349"
      },
      "source": [
        "mylist=[\"amine\",\"jguirim\",[1,2]]\n",
        "mylist[1]=\"Mobile\"#To modify the value of a specific item, refer to the index number:\n",
        "print(mylist)\n",
        "mylist.append(\"web\")#To add an item at the end of the list, use the append method:\n",
        "print(mylist)\n",
        "mylist.insert(1, \"game\")#Insert an item at the second position:\n",
        "print(mylist)\n",
        "mylist.remove(\"web\")#The remove() method removes the specified item:\n",
        "print(mylist)\n",
        "del mylist[0]#The del keyword removes the specified index:\n",
        "print(mylist)"
      ],
      "execution_count": null,
      "outputs": [
        {
          "output_type": "stream",
          "name": "stdout",
          "text": [
            "['amine', 'Mobile', [1, 2]]\n",
            "['amine', 'Mobile', [1, 2], 'web']\n",
            "['amine', 'game', 'Mobile', [1, 2], 'web']\n",
            "['amine', 'game', 'Mobile', [1, 2]]\n",
            "['game', 'Mobile', [1, 2]]\n"
          ]
        }
      ]
    },
    {
      "cell_type": "code",
      "metadata": {
        "colab": {
          "base_uri": "https://localhost:8080/"
        },
        "id": "oQJ34XScxM5k",
        "outputId": "c529f463-1630-4310-b7b0-d1d02d6809a7"
      },
      "source": [
        "#Tuples\n",
        "mytuple=(\"AI\",\"Data Science\", \"Web\")\n",
        "print(mytuple)\n",
        "print(mytuple[0])\n",
        "print(len(mytuple))#To determine how many items a tuple has, use the len() method:\n",
        "new_tuple=tuple(\"Carmichael\")#It is also possible to use the tuple() constructor to create a tuple:  \n",
        "new_tuple"
      ],
      "execution_count": null,
      "outputs": [
        {
          "output_type": "stream",
          "name": "stdout",
          "text": [
            "('AI', 'Data Science', 'Web')\n",
            "AI\n",
            "3\n"
          ]
        },
        {
          "output_type": "execute_result",
          "data": {
            "text/plain": [
              "('C', 'a', 'r', 'm', 'i', 'c', 'h', 'a', 'e', 'l')"
            ]
          },
          "metadata": {},
          "execution_count": 18
        }
      ]
    },
    {
      "cell_type": "code",
      "metadata": {
        "colab": {
          "base_uri": "https://localhost:8080/"
        },
        "id": "vtUR38HM2DrE",
        "outputId": "b36ad7dd-cd7b-4d7d-dff3-2bf1400edda3"
      },
      "source": [
        "MyDict={\"Name\":\"Jack\", \"Last Name\":\"Mccay\", \"year\": 1964}\n",
        "MyDict\n",
        "pairs = {1: \"apple\", \"orange\": [2, 3, 4],  True: False, None: \"True\"}  \n",
        "print(pairs)\n",
        "variable=MyDict[\"Name\"]#it returns the value of the key \"Name\" which is 'Jack''\n",
        "print(variable)\n",
        "variable=MyDict.get('Name')   #here we use the get method to get the value of Name\n",
        "variable\n",
        "MyDict['year']=2019   #changing the value of the key \"year\"\n",
        "MyDict\n",
        "MyDict.keys()  #it returns the keys of the dictionary :  dict_keys(['Name', 'Last Name', 'year'])\n",
        "MyDict.values()  #it returns the values of the dictionary :  dict_values(['Jack', 'Mccay', 2019])\n",
        "MyDict.items()   #it returns both keys and values: dict_items([('Name', 'Jack'), ('Last Name', 'Mccay'), ('year', 2019)])\n",
        "MyDict={\"Name\":\"Jack\", \"Last Name\":\"Mccay\", \"year\": 2019}\n",
        "MyDict['Survived']='Yes'   #adding new element (new key and new value)\n",
        "MyDict   #it returns the new dictionary: {'Last Name': 'Mccay', 'Name': 'Jack', 'Survived': 'Yes', 'year': 2019}"
      ],
      "execution_count": null,
      "outputs": [
        {
          "output_type": "stream",
          "name": "stdout",
          "text": [
            "{1: False, 'orange': [2, 3, 4], None: 'True'}\n",
            "Jack\n"
          ]
        },
        {
          "output_type": "execute_result",
          "data": {
            "text/plain": [
              "{'Last Name': 'Mccay', 'Name': 'Jack', 'Survived': 'Yes', 'year': 2019}"
            ]
          },
          "metadata": {},
          "execution_count": 31
        }
      ]
    },
    {
      "cell_type": "code",
      "metadata": {
        "colab": {
          "base_uri": "https://localhost:8080/"
        },
        "id": "GcmU8kKI7Ji3",
        "outputId": "71e2bfa2-f5ca-412f-e6a6-33760788f95b"
      },
      "source": [
        "#Boucles : for\n",
        "MyList=['ai', 'data']\n",
        "for x in MyList:\n",
        "  print(x)\n",
        "for x in range(4):#First Example: Starts from 0 to 4-1=3 incrementing by 1.\n",
        "    print(x)\n",
        "for x in range(1, 4):#Second Example: Starts from 1 to 4-1=3 incrementing by 1.\n",
        "    print(x)\n",
        "for x in range(2, 20, 3):#Third Example: Starts at 2 to 20-1=19 incrementing by 3.\n",
        "    print(x)"
      ],
      "execution_count": null,
      "outputs": [
        {
          "output_type": "stream",
          "name": "stdout",
          "text": [
            "ai\n",
            "data\n",
            "0\n",
            "1\n",
            "2\n",
            "3\n",
            "1\n",
            "2\n",
            "3\n",
            "2\n",
            "5\n",
            "8\n",
            "11\n",
            "14\n",
            "17\n",
            "2\n"
          ]
        }
      ]
    },
    {
      "cell_type": "code",
      "metadata": {
        "colab": {
          "base_uri": "https://localhost:8080/"
        },
        "id": "LtIJDpR0u0jK",
        "outputId": "8d546806-1c95-4097-e2df-6c0a28d3d17f"
      },
      "source": [
        "#while\n",
        "i=1\n",
        "while i<6:\n",
        "    print(i)\n",
        "    i+=1"
      ],
      "execution_count": null,
      "outputs": [
        {
          "output_type": "stream",
          "name": "stdout",
          "text": [
            "1\n",
            "2\n",
            "3\n",
            "4\n",
            "5\n"
          ]
        }
      ]
    },
    {
      "cell_type": "code",
      "metadata": {
        "colab": {
          "base_uri": "https://localhost:8080/"
        },
        "id": "s90abq0gu5dI",
        "outputId": "ae8b9a0c-bc1c-4d03-8534-242b0dc0c686"
      },
      "source": [
        "counter = 0\n",
        "while counter<3:\n",
        "    print(\"Inside loop\")\n",
        "    counter = counter + 1\n",
        "else:\n",
        "    print(\"Inside else\")"
      ],
      "execution_count": null,
      "outputs": [
        {
          "output_type": "stream",
          "name": "stdout",
          "text": [
            "Inside loop\n",
            "Inside loop\n",
            "Inside loop\n",
            "Inside else\n"
          ]
        }
      ]
    },
    {
      "cell_type": "code",
      "metadata": {
        "colab": {
          "base_uri": "https://localhost:8080/"
        },
        "id": "4yRY9-kivCNz",
        "outputId": "4ece9693-8a36-4706-b22c-9b8f52de6fdc"
      },
      "source": [
        "def my_function():#Une fonction est définie à l'aide du mot clé def :\n",
        "    print(\"Hello from a function\")\n",
        "my_function()"
      ],
      "execution_count": null,
      "outputs": [
        {
          "output_type": "stream",
          "name": "stdout",
          "text": [
            "Hello from a function\n"
          ]
        }
      ]
    },
    {
      "cell_type": "code",
      "metadata": {
        "colab": {
          "base_uri": "https://localhost:8080/"
        },
        "id": "VYeJRX5GvH5O",
        "outputId": "23d71ee3-2dff-4ce9-b793-1209d3041dac"
      },
      "source": [
        "def my_function(parameter):\n",
        "    print(\"I want to learn \"+parameter)\n",
        "my_function(\"to code!\")\n",
        "my_function(\"to do AI!\")"
      ],
      "execution_count": null,
      "outputs": [
        {
          "output_type": "stream",
          "name": "stdout",
          "text": [
            "I want to learn to code!\n",
            "I want to learn to do AI!\n"
          ]
        }
      ]
    },
    {
      "cell_type": "code",
      "metadata": {
        "colab": {
          "base_uri": "https://localhost:8080/"
        },
        "id": "zx8b2d3QvRmW",
        "outputId": "0381c7eb-75f3-4cfe-b09f-c5ebbe3a3f2c"
      },
      "source": [
        "def my_function(first_parameter, second_parameter):\n",
        "    print(\"First parameter: \"+first_parameter)\n",
        "    print(\"Second parameter: \"+second_parameter)\n",
        "my_function(\"Hey\", \"you!\")"
      ],
      "execution_count": null,
      "outputs": [
        {
          "output_type": "stream",
          "name": "stdout",
          "text": [
            "First parameter: Hey\n",
            "Second parameter: you!\n"
          ]
        }
      ]
    },
    {
      "cell_type": "code",
      "metadata": {
        "colab": {
          "base_uri": "https://localhost:8080/"
        },
        "id": "QUs2-yyNveFK",
        "outputId": "1f16f9ae-da26-4cbb-9950-be0606eeb921"
      },
      "source": [
        "def my_function(country=\"Tunisia\"):\n",
        "    print(\"I am from \"+country)\n",
        "my_function(\"Maroc\")\n",
        "my_function(\"Algeria\")\n",
        "my_function()"
      ],
      "execution_count": null,
      "outputs": [
        {
          "output_type": "stream",
          "name": "stdout",
          "text": [
            "I am from Maroc\n",
            "I am from Algeria\n",
            "I am from Tunisia\n"
          ]
        }
      ]
    },
    {
      "cell_type": "code",
      "metadata": {
        "colab": {
          "base_uri": "https://localhost:8080/"
        },
        "id": "VxrGEZB5vkhc",
        "outputId": "7eb908e1-f52e-49ee-d486-32b4f26c4b8d"
      },
      "source": [
        "def my_function(x):#To return a value from a function we can use the return statement :\n",
        "    return 5*x\n",
        "print(my_function(0))\n",
        "print(my_function(1))\n",
        "print(my_function(2))"
      ],
      "execution_count": null,
      "outputs": [
        {
          "output_type": "stream",
          "name": "stdout",
          "text": [
            "0\n",
            "5\n",
            "10\n"
          ]
        }
      ]
    },
    {
      "cell_type": "code",
      "metadata": {
        "colab": {
          "base_uri": "https://localhost:8080/"
        },
        "id": "qwi6f3BVxNin",
        "outputId": "bfc7ad86-f2ff-4718-e0ee-41fdd587e11e"
      },
      "source": [
        "sum = lambda a,b,c : a+b+c\n",
        "print(sum(8,3,5)) "
      ],
      "execution_count": null,
      "outputs": [
        {
          "output_type": "stream",
          "name": "stdout",
          "text": [
            "16\n"
          ]
        }
      ]
    },
    {
      "cell_type": "code",
      "metadata": {
        "colab": {
          "base_uri": "https://localhost:8080/"
        },
        "id": "vofPh9TGioag",
        "outputId": "7a11c4a0-3808-40c9-b0aa-5f4a924f7934"
      },
      "source": [
        "year = lambda ch : ch[:4]\n",
        "ch = \"20200310\"\n",
        "print(year(ch)) #2020"
      ],
      "execution_count": 1,
      "outputs": [
        {
          "output_type": "stream",
          "name": "stdout",
          "text": [
            "2020\n"
          ]
        }
      ]
    },
    {
      "cell_type": "code",
      "metadata": {
        "colab": {
          "base_uri": "https://localhost:8080/"
        },
        "id": "9eCMaGqti-py",
        "outputId": "e81e9d3a-60c7-48f3-9d5b-d9d9d743ca1a"
      },
      "source": [
        "test = lambda date : date.split('/')[1]\n",
        "date = '2020/03/10'\n",
        "print(test(date))"
      ],
      "execution_count": 2,
      "outputs": [
        {
          "output_type": "stream",
          "name": "stdout",
          "text": [
            "03\n"
          ]
        }
      ]
    },
    {
      "cell_type": "code",
      "metadata": {
        "colab": {
          "base_uri": "https://localhost:8080/"
        },
        "id": "X-OctNZl0SzI",
        "outputId": "067c1930-d1e5-490d-b987-695eb1543bd2"
      },
      "source": [
        "#Matrice\n",
        "import numpy as np\n",
        "new_array=np.array([[1,2,3],[2,5,5]])\n",
        "print(new_array)\n",
        "print(new_array.shape)#To obtain the shape of “new_array”, use the command .shape(nbrligne et colonnes)\n",
        "print(type(new_array))\n",
        "print(new_array[0,:])\n",
        "print(new_array[0,0])\n",
        "print(new_array[:,0])\n"
      ],
      "execution_count": null,
      "outputs": [
        {
          "output_type": "stream",
          "name": "stdout",
          "text": [
            "[[1 2 3]\n",
            " [2 5 5]]\n",
            "(2, 3)\n",
            "<class 'numpy.ndarray'>\n",
            "[1 2 3]\n",
            "1\n",
            "[1 2]\n"
          ]
        }
      ]
    },
    {
      "cell_type": "code",
      "metadata": {
        "colab": {
          "base_uri": "https://localhost:8080/"
        },
        "id": "yzoO7YWe6eF6",
        "outputId": "830bd456-fd2a-4d13-f41b-0dfc362eb052"
      },
      "source": [
        "import numpy as np\n",
        "new_array=np.random.randint(2,5,[3,6])\n",
        "print(new_array)"
      ],
      "execution_count": null,
      "outputs": [
        {
          "output_type": "stream",
          "name": "stdout",
          "text": [
            "[[4 3 3 3 3 2]\n",
            " [2 3 4 2 3 4]\n",
            " [3 2 2 3 3 2]]\n"
          ]
        }
      ]
    },
    {
      "cell_type": "code",
      "metadata": {
        "colab": {
          "base_uri": "https://localhost:8080/"
        },
        "id": "YLNUN4Fe7h7o",
        "outputId": "48303236-b086-42e5-813d-8ea813843231"
      },
      "source": [
        "import numpy as np\n",
        "new_array=np.random.random([3,6])\n",
        "print(new_array)"
      ],
      "execution_count": null,
      "outputs": [
        {
          "output_type": "stream",
          "name": "stdout",
          "text": [
            "[[0.91938964 0.96418356 0.33148862 0.09239977 0.18703382 0.43458197]\n",
            " [0.67981373 0.5037856  0.19507055 0.41949943 0.57147062 0.61130195]\n",
            " [0.40026172 0.78397162 0.72611548 0.86205312 0.78033822 0.9781016 ]]\n"
          ]
        }
      ]
    },
    {
      "cell_type": "code",
      "metadata": {
        "colab": {
          "base_uri": "https://localhost:8080/"
        },
        "id": "18k594Ef8lHL",
        "outputId": "834885b8-f793-4e98-b575-ef40d346a9ab"
      },
      "source": [
        "import numpy as np #Zeros function returns a new array of a given shape and type filled with zeros:\n",
        "new_array=np.zeros([2,3])\n",
        "print(new_array)"
      ],
      "execution_count": null,
      "outputs": [
        {
          "output_type": "stream",
          "name": "stdout",
          "text": [
            "[[0. 0. 0.]\n",
            " [0. 0. 0.]]\n"
          ]
        }
      ]
    },
    {
      "cell_type": "code",
      "metadata": {
        "colab": {
          "base_uri": "https://localhost:8080/"
        },
        "id": "GJcxlBvG9mC-",
        "outputId": "2d908a5d-6c72-473a-aa66-5e0a9882f93d"
      },
      "source": [
        "import numpy as np #Full function returns a new array of a given shape and type filled with fill_value :\n",
        "new_array=np.full(2,3)\n",
        "print(new_array)"
      ],
      "execution_count": null,
      "outputs": [
        {
          "output_type": "stream",
          "name": "stdout",
          "text": [
            "[3 3]\n"
          ]
        }
      ]
    },
    {
      "cell_type": "code",
      "metadata": {
        "colab": {
          "base_uri": "https://localhost:8080/"
        },
        "id": "C_u7hdEJ-xRJ",
        "outputId": "39ee5a2d-1f2e-4524-935a-587d553c3767"
      },
      "source": [
        "import numpy as np #Eye function returns a 2D array with ones on the diagonal and zeros elsewhere :\n",
        "new_array=np.eye(5)\n",
        "print(new_array)"
      ],
      "execution_count": null,
      "outputs": [
        {
          "output_type": "stream",
          "name": "stdout",
          "text": [
            "[[1. 0. 0. 0. 0.]\n",
            " [0. 1. 0. 0. 0.]\n",
            " [0. 0. 1. 0. 0.]\n",
            " [0. 0. 0. 1. 0.]\n",
            " [0. 0. 0. 0. 1.]]\n"
          ]
        }
      ]
    },
    {
      "cell_type": "code",
      "metadata": {
        "colab": {
          "base_uri": "https://localhost:8080/"
        },
        "id": "J2W5Zxuc_BMZ",
        "outputId": "87c52469-a04f-4889-9eff-b35ac7e3e206"
      },
      "source": [
        "import numpy as np #Ones function returns a new array of given shape and type filled with ones :\n",
        "new_array=np.ones((5,5))\n",
        "print(new_array)"
      ],
      "execution_count": null,
      "outputs": [
        {
          "output_type": "stream",
          "name": "stdout",
          "text": [
            "[[1. 1. 1. 1. 1.]\n",
            " [1. 1. 1. 1. 1.]\n",
            " [1. 1. 1. 1. 1.]\n",
            " [1. 1. 1. 1. 1.]\n",
            " [1. 1. 1. 1. 1.]]\n"
          ]
        }
      ]
    },
    {
      "cell_type": "code",
      "metadata": {
        "colab": {
          "base_uri": "https://localhost:8080/"
        },
        "id": "-UUKkbjWAFWC",
        "outputId": "a22292c0-298c-4ccb-8f1f-cd0062cd70ef"
      },
      "source": [
        "import numpy as np\n",
        "new_array=np.random.randint(2,5,[3,6])\n",
        "print(new_array)\n",
        "new_array2=np.random.randint(2,5,[3,6])\n",
        "print(new_array2)\n",
        "new_array3=np.add(new_array,new_array2)#The function add returns the sum of two arrays:\n",
        "print(new_array3)\n",
        "new_array3=np.subtract(new_array,new_array2)#The function subtract returns the difference between two numpy arrays\n",
        "print(new_array3)"
      ],
      "execution_count": 3,
      "outputs": [
        {
          "output_type": "stream",
          "name": "stdout",
          "text": [
            "[[3 3 2 3 2 2]\n",
            " [2 2 2 2 3 4]\n",
            " [2 4 2 4 4 4]]\n",
            "[[4 2 2 4 2 4]\n",
            " [2 2 2 3 4 3]\n",
            " [2 4 4 4 3 3]]\n",
            "[[7 5 4 7 4 6]\n",
            " [4 4 4 5 7 7]\n",
            " [4 8 6 8 7 7]]\n",
            "[[-1  1  0 -1  0 -2]\n",
            " [ 0  0  0 -1 -1  1]\n",
            " [ 0  0 -2  0  1  1]]\n"
          ]
        }
      ]
    },
    {
      "cell_type": "code",
      "metadata": {
        "colab": {
          "base_uri": "https://localhost:8080/"
        },
        "id": "Xtcig4nhBm_K",
        "outputId": "9c6fd7d1-3131-4f0c-e3a2-1e9eac42b1ee"
      },
      "source": [
        "import numpy as np\n",
        "new_array=np.array([[2,5],[3,6],[2,3]])\n",
        "bool_idx=(new_array>2)\n",
        "print(bool_idx)\n",
        "print(new_array[bool_idx])\n",
        "print(bool_idx)\n",
        "print(new_array[new_array>2])"
      ],
      "execution_count": null,
      "outputs": [
        {
          "output_type": "stream",
          "name": "stdout",
          "text": [
            "[[False  True]\n",
            " [ True  True]\n",
            " [False  True]]\n",
            "[5 3 6 3]\n",
            "[[False  True]\n",
            " [ True  True]\n",
            " [False  True]]\n",
            "[5 3 6 3]\n"
          ]
        }
      ]
    },
    {
      "cell_type": "code",
      "metadata": {
        "id": "WqlLSh-jDGxO",
        "colab": {
          "base_uri": "https://localhost:8080/",
          "height": 128
        },
        "outputId": "d10f8ae6-e5fd-41f1-f4fb-646dc7747bfb"
      },
      "source": [
        "import numpy as np\n",
        "new_array=np.array([[2,5],[3,6],[2,3]])\n",
        "for i in new_array\n",
        "print (new_array(1,0))"
      ],
      "execution_count": 4,
      "outputs": [
        {
          "output_type": "error",
          "ename": "SyntaxError",
          "evalue": "ignored",
          "traceback": [
            "\u001b[0;36m  File \u001b[0;32m\"<ipython-input-4-161033165724>\"\u001b[0;36m, line \u001b[0;32m3\u001b[0m\n\u001b[0;31m    for i in new_array\u001b[0m\n\u001b[0m                      ^\u001b[0m\n\u001b[0;31mSyntaxError\u001b[0m\u001b[0;31m:\u001b[0m invalid syntax\n"
          ]
        }
      ]
    },
    {
      "cell_type": "code",
      "metadata": {
        "colab": {
          "base_uri": "https://localhost:8080/"
        },
        "id": "XV4ZuqOsqH_B",
        "outputId": "14ab3690-f4e2-4dbf-efe4-205a69033e83"
      },
      "source": [
        "a = np.array([[9, 18], [19, 10]])\n",
        "print( a > 10)"
      ],
      "execution_count": 5,
      "outputs": [
        {
          "output_type": "stream",
          "name": "stdout",
          "text": [
            "[[False  True]\n",
            " [ True False]]\n"
          ]
        }
      ]
    }
  ]
}