{
  "nbformat": 4,
  "nbformat_minor": 0,
  "metadata": {
    "colab": {
      "name": "checkpoints1.ipynb",
      "provenance": [],
      "authorship_tag": "ABX9TyNA+3qtdk40+CmyyR3Xw5Vz",
      "include_colab_link": true
    },
    "kernelspec": {
      "name": "python3",
      "display_name": "Python 3"
    },
    "language_info": {
      "name": "python"
    }
  },
  "cells": [
    {
      "cell_type": "markdown",
      "metadata": {
        "id": "view-in-github",
        "colab_type": "text"
      },
      "source": [
        "<a href=\"https://colab.research.google.com/github/aminejguirim/artificial-intelligence-GoMyCode-/blob/main/checkpoints1.ipynb\" target=\"_parent\"><img src=\"https://colab.research.google.com/assets/colab-badge.svg\" alt=\"Open In Colab\"/></a>"
      ]
    },
    {
      "cell_type": "markdown",
      "metadata": {
        "id": "_tis6yhHgw65"
      },
      "source": [
        "question 1\n",
        "\n",
        "Ecrivez un programme qui trouvera tous les nombres divisibles par 7 mais non multiples de 5, entre 2000 et 3200 (tous deux inclus). Les nombres obtenus doivent être imprimés dans une liste.\n",
        "\n",
        "Conseils : envisagez d'utiliser la méthode range(#begin, #end).\n",
        "V.ENGLISH\n",
        "Write a program that will find all numbers which are divisible by 7 but are not a multiple of 5, between 2000 and 3200 (both included). The numbers obtained should be printed in a list.\n",
        "\n",
        "Hints: Consider using the range(#begin, #end) method."
      ]
    },
    {
      "cell_type": "code",
      "metadata": {
        "colab": {
          "base_uri": "https://localhost:8080/"
        },
        "id": "o_YYZfsOe41k",
        "outputId": "ca672ff5-b7b3-4a04-b7a2-64d2a3bbcbd2"
      },
      "source": [
        "for i in range(2000,3200):\n",
        "    if i%7 == 0 and i%5!=0:\n",
        "        print(i,end=',')"
      ],
      "execution_count": 7,
      "outputs": [
        {
          "output_type": "stream",
          "name": "stdout",
          "text": [
            "2002,2009,2016,2023,2037,2044,2051,2058,2072,2079,2086,2093,2107,2114,2121,2128,2142,2149,2156,2163,2177,2184,2191,2198,2212,2219,2226,2233,2247,2254,2261,2268,2282,2289,2296,2303,2317,2324,2331,2338,2352,2359,2366,2373,2387,2394,2401,2408,2422,2429,2436,2443,2457,2464,2471,2478,2492,2499,2506,2513,2527,2534,2541,2548,2562,2569,2576,2583,2597,2604,2611,2618,2632,2639,2646,2653,2667,2674,2681,2688,2702,2709,2716,2723,2737,2744,2751,2758,2772,2779,2786,2793,2807,2814,2821,2828,2842,2849,2856,2863,2877,2884,2891,2898,2912,2919,2926,2933,2947,2954,2961,2968,2982,2989,2996,3003,3017,3024,3031,3038,3052,3059,3066,3073,3087,3094,3101,3108,3122,3129,3136,3143,3157,3164,3171,3178,3192,3199,"
          ]
        }
      ]
    },
    {
      "cell_type": "code",
      "metadata": {
        "colab": {
          "base_uri": "https://localhost:8080/"
        },
        "id": "x4muEuJ4h0Jj",
        "outputId": "27900b9b-abc1-4d0f-b534-0ffa4a262012"
      },
      "source": [
        "n = 5\n",
        "f = 1\n",
        "for i in range(1,n+1):\n",
        "    f = f * i\n",
        "print(f)"
      ],
      "execution_count": 16,
      "outputs": [
        {
          "output_type": "stream",
          "name": "stdout",
          "text": [
            "120\n"
          ]
        }
      ]
    },
    {
      "cell_type": "code",
      "metadata": {
        "colab": {
          "base_uri": "https://localhost:8080/"
        },
        "id": "MGkH6M9tlyPl",
        "outputId": "35ecd389-d41f-47a3-835d-bef89c500eb6"
      },
      "source": [
        "n = 8\n",
        "a={i : i*i for i in range(1,n+1)}\n",
        "print(a)"
      ],
      "execution_count": 20,
      "outputs": [
        {
          "output_type": "stream",
          "name": "stdout",
          "text": [
            "{1: 1, 2: 4, 3: 9, 4: 16, 5: 25, 6: 36, 7: 49, 8: 64}\n"
          ]
        }
      ]
    },
    {
      "cell_type": "code",
      "metadata": {
        "colab": {
          "base_uri": "https://localhost:8080/"
        },
        "id": "dChKBXdE3T5G",
        "outputId": "771220ea-af58-486c-c7d5-3adaa1f6a430"
      },
      "source": [
        "def remove_char(str, n):\n",
        "      first = str[:n] \n",
        "      last = str[n+1:]\n",
        "      return first + last\n",
        "print(remove_char('kitten', 1))"
      ],
      "execution_count": 35,
      "outputs": [
        {
          "output_type": "stream",
          "name": "stdout",
          "text": [
            "ktten\n"
          ]
        }
      ]
    },
    {
      "cell_type": "code",
      "metadata": {
        "colab": {
          "base_uri": "https://localhost:8080/"
        },
        "id": "svsbcqH34w85",
        "outputId": "f64dd32b-e2a0-491f-9c5a-da8c7c0b007b"
      },
      "source": [
        "import numpy as np\n",
        "arr = np.array([[1, 2, 3], [4, 5, 6]])\n",
        "\n",
        "print(f'NumPy Array:\\n{arr}')\n",
        "\n",
        "list1 = arr.tolist()\n",
        "\n",
        "print(f'List: {list1}')"
      ],
      "execution_count": 38,
      "outputs": [
        {
          "output_type": "stream",
          "name": "stdout",
          "text": [
            "NumPy Array:\n",
            "[[1 2 3]\n",
            " [4 5 6]]\n",
            "List: [[1, 2, 3], [4, 5, 6]]\n"
          ]
        }
      ]
    },
    {
      "cell_type": "code",
      "metadata": {
        "colab": {
          "base_uri": "https://localhost:8080/"
        },
        "id": "W__od5Rxx_Cd",
        "outputId": "06e7e8a6-5202-4839-a0b0-e16402898c1a"
      },
      "source": [
        "import numpy as np \n",
        "array1 = np.array([0, 1, 2]) \n",
        "array2 = np.array([2, 1, 0])    \n",
        "print(np.cov(array1, array2))"
      ],
      "execution_count": 30,
      "outputs": [
        {
          "output_type": "stream",
          "name": "stdout",
          "text": [
            "[[ 1. -1.]\n",
            " [-1.  1.]]\n"
          ]
        }
      ]
    },
    {
      "cell_type": "code",
      "metadata": {
        "colab": {
          "base_uri": "https://localhost:8080/"
        },
        "id": "mFLBksZC6-FG",
        "outputId": "8e4f43aa-5d45-4215-e05d-119f07cb1bde"
      },
      "source": [
        "import math\n",
        "\n",
        "numbers = input(\"Provide D: \")\n",
        "numbers = numbers.split(',')\n",
        "\n",
        "result_list = []\n",
        "for D in numbers:\n",
        "    Q = round(math.sqrt(2 * 50 * int(D) / 30))\n",
        "    result_list.append(Q)\n",
        "\n",
        "print(result_list)"
      ],
      "execution_count": 40,
      "outputs": [
        {
          "output_type": "stream",
          "name": "stdout",
          "text": [
            "Provide D: 100,150,180\n",
            "[18, 22, 24]\n"
          ]
        }
      ]
    }
  ]
}