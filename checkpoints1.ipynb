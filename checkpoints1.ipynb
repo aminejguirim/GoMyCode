{
  "nbformat": 4,
  "nbformat_minor": 0,
  "metadata": {
    "colab": {
      "name": "checkpoints1.ipynb",
      "provenance": [],
      "authorship_tag": "ABX9TyMSsMzXT1/EtWvGjGubOwXl",
      "include_colab_link": true
    },
    "kernelspec": {
      "name": "python3",
      "display_name": "Python 3"
    },
    "language_info": {
      "name": "python"
    }
  },
  "cells": [
    {
      "cell_type": "markdown",
      "metadata": {
        "id": "view-in-github",
        "colab_type": "text"
      },
      "source": [
        "<a href=\"https://colab.research.google.com/github/aminejguirim/artificial-intelligence-GoMyCode-/blob/main/checkpoints1.ipynb\" target=\"_parent\"><img src=\"https://colab.research.google.com/assets/colab-badge.svg\" alt=\"Open In Colab\"/></a>"
      ]
    },
    {
      "cell_type": "markdown",
      "metadata": {
        "id": "_tis6yhHgw65"
      },
      "source": [
        "question 1\n",
        "\n",
        "Ecrivez un programme qui trouvera tous les nombres divisibles par 7 mais non multiples de 5, entre 2000 et 3200 (tous deux inclus). Les nombres obtenus doivent être imprimés dans une liste.\n",
        "\n",
        "Conseils : envisagez d'utiliser la méthode range(#begin, #end).\n",
        "V.ENGLISH\n",
        "Write a program that will find all numbers which are divisible by 7 but are not a multiple of 5, between 2000 and 3200 (both included). The numbers obtained should be printed in a list.\n",
        "\n",
        "Hints: Consider using the range(#begin, #end) method."
      ]
    },
    {
      "cell_type": "code",
      "metadata": {
        "colab": {
          "base_uri": "https://localhost:8080/"
        },
        "id": "o_YYZfsOe41k",
        "outputId": "ca672ff5-b7b3-4a04-b7a2-64d2a3bbcbd2"
      },
      "source": [
        "for i in range(2000,3200):\n",
        "    if i%7 == 0 and i%5!=0:\n",
        "        print(i,end=',')"
      ],
      "execution_count": null,
      "outputs": [
        {
          "output_type": "stream",
          "name": "stdout",
          "text": [
            "2002,2009,2016,2023,2037,2044,2051,2058,2072,2079,2086,2093,2107,2114,2121,2128,2142,2149,2156,2163,2177,2184,2191,2198,2212,2219,2226,2233,2247,2254,2261,2268,2282,2289,2296,2303,2317,2324,2331,2338,2352,2359,2366,2373,2387,2394,2401,2408,2422,2429,2436,2443,2457,2464,2471,2478,2492,2499,2506,2513,2527,2534,2541,2548,2562,2569,2576,2583,2597,2604,2611,2618,2632,2639,2646,2653,2667,2674,2681,2688,2702,2709,2716,2723,2737,2744,2751,2758,2772,2779,2786,2793,2807,2814,2821,2828,2842,2849,2856,2863,2877,2884,2891,2898,2912,2919,2926,2933,2947,2954,2961,2968,2982,2989,2996,3003,3017,3024,3031,3038,3052,3059,3066,3073,3087,3094,3101,3108,3122,3129,3136,3143,3157,3164,3171,3178,3192,3199,"
          ]
        }
      ]
    },
    {
      "cell_type": "markdown",
      "metadata": {
        "id": "gaqzSWboH0jK"
      },
      "source": [
        "question 2 \n",
        "\n",
        " Écrivez un programme qui peut calculer la factorielle d'un nombre donné. (la factorielle de n est le produit de tous les entiers positifs inférieurs ou égaux à n). par exemple factoriel(5)= 5 x 4 x 3 x 2 x 1 le résultat est 120. (c'est-à-dire factoriel (0)=1)"
      ]
    },
    {
      "cell_type": "code",
      "metadata": {
        "colab": {
          "base_uri": "https://localhost:8080/"
        },
        "id": "x4muEuJ4h0Jj",
        "outputId": "27900b9b-abc1-4d0f-b534-0ffa4a262012"
      },
      "source": [
        "n = 5\n",
        "f = 1\n",
        "for i in range(1,n+1):\n",
        "    f = f * i\n",
        "print(f)"
      ],
      "execution_count": null,
      "outputs": [
        {
          "output_type": "stream",
          "name": "stdout",
          "text": [
            "120\n"
          ]
        }
      ]
    },
    {
      "cell_type": "markdown",
      "metadata": {
        "id": "BTBV2OJbH22g"
      },
      "source": [
        "question 3 \n",
        "\n",
        "Avec un nombre entier donné n, écrivez un programme pour générer un dictionnaire qui contient (i, i*i) tel qu'il soit un nombre entier compris entre 1 et n (tous deux inclus). puis le programme devrait imprimer le dictionnaire. Supposons que l'entrée suivante soit fournie au programme : 8 Ensuite, la sortie devrait être : {1 : 1, 2 : 4, 3 : 9, 4 : 16, 5 : 25, 6 : 36, 7 : 49, 8 : 64 }  "
      ]
    },
    {
      "cell_type": "code",
      "metadata": {
        "colab": {
          "base_uri": "https://localhost:8080/"
        },
        "id": "MGkH6M9tlyPl",
        "outputId": "35ecd389-d41f-47a3-835d-bef89c500eb6"
      },
      "source": [
        "n = 8\n",
        "a={i : i*i for i in range(1,n+1)}\n",
        "print(a)"
      ],
      "execution_count": null,
      "outputs": [
        {
          "output_type": "stream",
          "name": "stdout",
          "text": [
            "{1: 1, 2: 4, 3: 9, 4: 16, 5: 25, 6: 36, 7: 49, 8: 64}\n"
          ]
        }
      ]
    },
    {
      "cell_type": "markdown",
      "metadata": {
        "id": "E9-a54OBH69a"
      },
      "source": [
        "Question 4 \n",
        "\n",
        "Étant donné une chaîne non vide et un int n, renvoie une nouvelle chaîne où le caractère à l'index n a été supprimé. La valeur de n sera un index valide d'un caractère dans la chaîne d'origine (c'est-à-dire que n sera dans la plage 0..len(str)-1 inclus). \n",
        "\n",
        "missing_char('kitten', 1) → 'ktten' par exemple ici on supprime \"i\" qui se trouve dans l'index 1\n",
        "\n",
        "missing_char('kitten', 0) → 'itten' ici on supprime \"k\" qui est dans l'index 0\n",
        "\n",
        "missing_char('kitten', 4) → 'kittn' ici on supprime \"e\" qui est dans l'index 4"
      ]
    },
    {
      "cell_type": "code",
      "metadata": {
        "colab": {
          "base_uri": "https://localhost:8080/"
        },
        "id": "dChKBXdE3T5G",
        "outputId": "771220ea-af58-486c-c7d5-3adaa1f6a430"
      },
      "source": [
        "def remove_char(str, n):\n",
        "      first = str[:n] \n",
        "      last = str[n+1:]\n",
        "      return first + last\n",
        "print(remove_char('kitten', 1))"
      ],
      "execution_count": null,
      "outputs": [
        {
          "output_type": "stream",
          "name": "stdout",
          "text": [
            "ktten\n"
          ]
        }
      ]
    },
    {
      "cell_type": "markdown",
      "metadata": {
        "id": "CfNzOJRLH_JN"
      },
      "source": [
        "Question 5 \n",
        "\n",
        "Ecrivez un programme NumPy pour convertir un tableau NumPy en une structure de liste Python.\n",
        "\n",
        "Production attendue: \n",
        "\n",
        "Éléments du tableau d'origine : [[0 1] [2 3] [4 5]] \n",
        "\n",
        "Tableau à lister : [[0, 1], [2, 3], [4, 5]] \n",
        " "
      ]
    },
    {
      "cell_type": "code",
      "metadata": {
        "colab": {
          "base_uri": "https://localhost:8080/"
        },
        "id": "svsbcqH34w85",
        "outputId": "f64dd32b-e2a0-491f-9c5a-da8c7c0b007b"
      },
      "source": [
        "import numpy as np\n",
        "arr = np.array([[1, 2, 3], [4, 5, 6]])\n",
        "\n",
        "print(f'NumPy Array:\\n{arr}')\n",
        "\n",
        "list1 = arr.tolist()\n",
        "\n",
        "print(f'List: {list1}')"
      ],
      "execution_count": null,
      "outputs": [
        {
          "output_type": "stream",
          "name": "stdout",
          "text": [
            "NumPy Array:\n",
            "[[1 2 3]\n",
            " [4 5 6]]\n",
            "List: [[1, 2, 3], [4, 5, 6]]\n"
          ]
        }
      ]
    },
    {
      "cell_type": "markdown",
      "metadata": {
        "id": "30YpTzFYICOD"
      },
      "source": [
        "Question 6\n",
        "\n",
        "Ecrivez un programme NumPy pour calculer la matrice de covariance de deux tableaux donnés. \n",
        "\n",
        "Tableau d'origine1 : [0 1 2] \n",
        "\n",
        "Tableau d'origine2 : [2 1 0] \n",
        "\n",
        "Matrice de covariance desdits tableaux : [[ 1. -1.] [-1. 1.]]\n",
        " \n",
        "\n",
        "Astuce : Nous pouvons utiliser la fonction np.cov() pour calculer la covariance entre ces deux tableaux"
      ]
    },
    {
      "cell_type": "code",
      "metadata": {
        "colab": {
          "base_uri": "https://localhost:8080/"
        },
        "id": "W__od5Rxx_Cd",
        "outputId": "06e7e8a6-5202-4839-a0b0-e16402898c1a"
      },
      "source": [
        "import numpy as np \n",
        "array1 = np.array([0, 1, 2]) \n",
        "array2 = np.array([2, 1, 0])    \n",
        "print(np.cov(array1, array2))"
      ],
      "execution_count": null,
      "outputs": [
        {
          "output_type": "stream",
          "name": "stdout",
          "text": [
            "[[ 1. -1.]\n",
            " [-1.  1.]]\n"
          ]
        }
      ]
    },
    {
      "cell_type": "markdown",
      "metadata": {
        "id": "dpOcXOHCISKq"
      },
      "source": [
        "Question 7\n",
        "\n",
        "Question : Écrivez un programme qui calcule et imprime la valeur selon la formule donnée : Q = racine carrée de [(2 * C * D)/H] \n",
        "\n",
        "Voici les valeurs fixes de C et H : C est 50. H est 30. \n",
        "\n",
        "D est la variable dont les valeurs doivent être entrées dans votre programme dans une séquence séparée par des virgules. (cela signifie que D contient plus que la valeur)\n",
        "\n",
        "Exemple Supposons que la séquence d'entrées séparée par des virgules suivante est donnée au programme : 100,150,180 La sortie du programme doit être : 18,22,24 \n",
        "\n",
        "Pour mieux expliquer cela, nous obtiendrons un résultat pour chaque valeur de D : Q1= Racine carrée de [(2 * C * 100)/H] =18, Q2= Racine carrée de [(2 * C * 150)/H ] = 22 et Q3 = Racine carrée de [(2 * C * 180)/H] = 24\n",
        "\n",
        "Conseils : Si la sortie reçue est sous forme décimale, elle doit être arrondie à sa valeur la plus proche (par exemple, si la sortie reçue est 26,0, elle doit être imprimée comme 26) En cas de données d'entrée fournies à la question, il doit être considéré comme une entrée de console. "
      ]
    },
    {
      "cell_type": "code",
      "metadata": {
        "id": "mFLBksZC6-FG",
        "colab": {
          "base_uri": "https://localhost:8080/"
        },
        "outputId": "beee7226-753b-4d67-e867-01e1c6e67034"
      },
      "source": [
        "import math\n",
        "\n",
        "numbers = input(\"Provide D: \")\n",
        "numbers = numbers.split(',')\n",
        "\n",
        "result_list = []\n",
        "for D in numbers:\n",
        "    Q = round(math.sqrt(2 * 50 * int(D) / 30))\n",
        "    result_list.append(Q)\n",
        "\n",
        "print(result_list)"
      ],
      "execution_count": 1,
      "outputs": [
        {
          "output_type": "stream",
          "name": "stdout",
          "text": [
            "Provide D: 120\n",
            "[20]\n"
          ]
        }
      ]
    }
  ]
}